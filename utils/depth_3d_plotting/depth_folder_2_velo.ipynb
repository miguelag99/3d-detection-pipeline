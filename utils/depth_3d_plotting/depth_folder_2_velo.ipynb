{
 "cells": [
  {
   "cell_type": "code",
   "execution_count": 1,
   "metadata": {},
   "outputs": [],
   "source": [
    "import numpy as np\n",
    "import os\n",
    "\n",
    "from tqdm import tqdm\n",
    "\n",
    "from generate_lidar_from_depth import depth_2_pointcloud"
   ]
  },
  {
   "cell_type": "code",
   "execution_count": 2,
   "metadata": {},
   "outputs": [],
   "source": [
    "SOURCE = '/home/robesafe/3d-detection-pipeline/results/SDN_kitti/depth_maps/'\n",
    "DESTINATION = '/home/robesafe/3d-detection-pipeline/results/SDN_kitti/lidar_from_depth/'\n",
    "CALIB = '/home/robesafe/Datasets/kitti_pseudolidar/training/calib/'\n",
    "GT = '/home/robesafe/Datasets/kitti_pseudolidar/training/label_2/'\n",
    "\n",
    "if not os.path.exists(DESTINATION):\n",
    "    os.makedirs(DESTINATION)"
   ]
  },
  {
   "cell_type": "code",
   "execution_count": 3,
   "metadata": {},
   "outputs": [
    {
     "name": "stderr",
     "output_type": "stream",
     "text": [
      "  1%|          | 49/7481 [00:02<05:06, 24.24it/s]\n"
     ]
    },
    {
     "ename": "KeyboardInterrupt",
     "evalue": "",
     "output_type": "error",
     "traceback": [
      "\u001b[0;31m---------------------------------------------------------------------------\u001b[0m",
      "\u001b[0;31mKeyboardInterrupt\u001b[0m                         Traceback (most recent call last)",
      "\u001b[1;32m/home/robesafe/3d-detection-pipeline/utils/depth_3d_plotting/depth_folder_2_velo.ipynb Cell 3\u001b[0m in \u001b[0;36m1\n\u001b[1;32m      <a href='vscode-notebook-cell:/home/robesafe/3d-detection-pipeline/utils/depth_3d_plotting/depth_folder_2_velo.ipynb#W2sZmlsZQ%3D%3D?line=7'>8</a>\u001b[0m object_file \u001b[39m=\u001b[39m os\u001b[39m.\u001b[39mpath\u001b[39m.\u001b[39mjoin(GT, im_name \u001b[39m+\u001b[39m \u001b[39m'\u001b[39m\u001b[39m.txt\u001b[39m\u001b[39m'\u001b[39m)\n\u001b[1;32m      <a href='vscode-notebook-cell:/home/robesafe/3d-detection-pipeline/utils/depth_3d_plotting/depth_folder_2_velo.ipynb#W2sZmlsZQ%3D%3D?line=8'>9</a>\u001b[0m calib_file \u001b[39m=\u001b[39m os\u001b[39m.\u001b[39mpath\u001b[39m.\u001b[39mjoin(CALIB, im_name \u001b[39m+\u001b[39m \u001b[39m'\u001b[39m\u001b[39m.txt\u001b[39m\u001b[39m'\u001b[39m)\n\u001b[0;32m---> <a href='vscode-notebook-cell:/home/robesafe/3d-detection-pipeline/utils/depth_3d_plotting/depth_folder_2_velo.ipynb#W2sZmlsZQ%3D%3D?line=9'>10</a>\u001b[0m pointcloud \u001b[39m=\u001b[39m depth_2_pointcloud(calib_dir\u001b[39m=\u001b[39;49mcalib_file, depth_dir\u001b[39m=\u001b[39;49mdepth_file, max_high\u001b[39m=\u001b[39;49m\u001b[39m4\u001b[39;49m, filter_by_gt\u001b[39m=\u001b[39;49mobject_file)\n\u001b[1;32m     <a href='vscode-notebook-cell:/home/robesafe/3d-detection-pipeline/utils/depth_3d_plotting/depth_folder_2_velo.ipynb#W2sZmlsZQ%3D%3D?line=10'>11</a>\u001b[0m pointcloud \u001b[39m=\u001b[39m pointcloud\u001b[39m.\u001b[39mreshape(pointcloud\u001b[39m.\u001b[39msize)\n\u001b[1;32m     <a href='vscode-notebook-cell:/home/robesafe/3d-detection-pipeline/utils/depth_3d_plotting/depth_folder_2_velo.ipynb#W2sZmlsZQ%3D%3D?line=11'>12</a>\u001b[0m pointcloud\u001b[39m.\u001b[39mtofile(os\u001b[39m.\u001b[39mpath\u001b[39m.\u001b[39mjoin(DESTINATION, im_name \u001b[39m+\u001b[39m \u001b[39m'\u001b[39m\u001b[39m.bin\u001b[39m\u001b[39m'\u001b[39m))\n",
      "File \u001b[0;32m~/3d-detection-pipeline/utils/depth_3d_plotting/generate_lidar_from_depth.py:29\u001b[0m, in \u001b[0;36mdepth_2_pointcloud\u001b[0;34m(calib_dir, depth_dir, max_high, filter_by_gt)\u001b[0m\n\u001b[1;32m     20\u001b[0m \u001b[39mdef\u001b[39;00m \u001b[39mdepth_2_pointcloud\u001b[39m(calib_dir, depth_dir, max_high \u001b[39m=\u001b[39m \u001b[39m1\u001b[39m, filter_by_gt \u001b[39m=\u001b[39m \u001b[39mNone\u001b[39;00m):\n\u001b[1;32m     21\u001b[0m \n\u001b[1;32m     22\u001b[0m \n\u001b[0;32m   (...)\u001b[0m\n\u001b[1;32m     26\u001b[0m     \u001b[39m# predix = depth_dir[:-4]\u001b[39;00m\n\u001b[1;32m     27\u001b[0m     \u001b[39m# calib_file = '{}/{}.txt'.format(calib_dir, predix)\u001b[39;00m\n\u001b[1;32m     28\u001b[0m     calib \u001b[39m=\u001b[39m kitti_util\u001b[39m.\u001b[39mCalibration(calib_dir)\n\u001b[0;32m---> 29\u001b[0m     depth_map \u001b[39m=\u001b[39m np\u001b[39m.\u001b[39;49mload(depth_dir)\n\u001b[1;32m     31\u001b[0m     \u001b[39mif\u001b[39;00m filter_by_gt \u001b[39mis\u001b[39;00m \u001b[39mnot\u001b[39;00m \u001b[39mNone\u001b[39;00m:\n\u001b[1;32m     32\u001b[0m         f \u001b[39m=\u001b[39m \u001b[39mopen\u001b[39m(filter_by_gt)\n",
      "File \u001b[0;32m~/anaconda3/envs/pseudo_lidar/lib/python3.8/site-packages/numpy/lib/npyio.py:413\u001b[0m, in \u001b[0;36mload\u001b[0;34m(file, mmap_mode, allow_pickle, fix_imports, encoding)\u001b[0m\n\u001b[1;32m    411\u001b[0m         \u001b[39mreturn\u001b[39;00m \u001b[39mformat\u001b[39m\u001b[39m.\u001b[39mopen_memmap(file, mode\u001b[39m=\u001b[39mmmap_mode)\n\u001b[1;32m    412\u001b[0m     \u001b[39melse\u001b[39;00m:\n\u001b[0;32m--> 413\u001b[0m         \u001b[39mreturn\u001b[39;00m \u001b[39mformat\u001b[39;49m\u001b[39m.\u001b[39;49mread_array(fid, allow_pickle\u001b[39m=\u001b[39;49mallow_pickle,\n\u001b[1;32m    414\u001b[0m                                  pickle_kwargs\u001b[39m=\u001b[39;49mpickle_kwargs)\n\u001b[1;32m    415\u001b[0m \u001b[39melse\u001b[39;00m:\n\u001b[1;32m    416\u001b[0m     \u001b[39m# Try a pickle\u001b[39;00m\n\u001b[1;32m    417\u001b[0m     \u001b[39mif\u001b[39;00m \u001b[39mnot\u001b[39;00m allow_pickle:\n",
      "File \u001b[0;32m~/anaconda3/envs/pseudo_lidar/lib/python3.8/site-packages/numpy/lib/format.py:731\u001b[0m, in \u001b[0;36mread_array\u001b[0;34m(fp, allow_pickle, pickle_kwargs)\u001b[0m\n\u001b[1;32m    729\u001b[0m version \u001b[39m=\u001b[39m read_magic(fp)\n\u001b[1;32m    730\u001b[0m _check_version(version)\n\u001b[0;32m--> 731\u001b[0m shape, fortran_order, dtype \u001b[39m=\u001b[39m _read_array_header(fp, version)\n\u001b[1;32m    732\u001b[0m \u001b[39mif\u001b[39;00m \u001b[39mlen\u001b[39m(shape) \u001b[39m==\u001b[39m \u001b[39m0\u001b[39m:\n\u001b[1;32m    733\u001b[0m     count \u001b[39m=\u001b[39m \u001b[39m1\u001b[39m\n",
      "File \u001b[0;32m~/anaconda3/envs/pseudo_lidar/lib/python3.8/site-packages/numpy/lib/format.py:594\u001b[0m, in \u001b[0;36m_read_array_header\u001b[0;34m(fp, version)\u001b[0m\n\u001b[1;32m    585\u001b[0m \u001b[39m# The header is a pretty-printed string representation of a literal\u001b[39;00m\n\u001b[1;32m    586\u001b[0m \u001b[39m# Python dictionary with trailing newlines padded to a ARRAY_ALIGN byte\u001b[39;00m\n\u001b[1;32m    587\u001b[0m \u001b[39m# boundary. The keys are strings.\u001b[39;00m\n\u001b[0;32m   (...)\u001b[0m\n\u001b[1;32m    591\u001b[0m \u001b[39m# Versions (2, 0) and (1, 0) could have been created by a Python 2\u001b[39;00m\n\u001b[1;32m    592\u001b[0m \u001b[39m# implementation before header filtering was implemented.\u001b[39;00m\n\u001b[1;32m    593\u001b[0m \u001b[39mif\u001b[39;00m version \u001b[39m<\u001b[39m\u001b[39m=\u001b[39m (\u001b[39m2\u001b[39m, \u001b[39m0\u001b[39m):\n\u001b[0;32m--> 594\u001b[0m     header \u001b[39m=\u001b[39m _filter_header(header)\n\u001b[1;32m    595\u001b[0m \u001b[39mtry\u001b[39;00m:\n\u001b[1;32m    596\u001b[0m     d \u001b[39m=\u001b[39m safe_eval(header)\n",
      "File \u001b[0;32m~/anaconda3/envs/pseudo_lidar/lib/python3.8/site-packages/numpy/lib/format.py:555\u001b[0m, in \u001b[0;36m_filter_header\u001b[0;34m(s)\u001b[0m\n\u001b[1;32m    553\u001b[0m tokens \u001b[39m=\u001b[39m []\n\u001b[1;32m    554\u001b[0m last_token_was_number \u001b[39m=\u001b[39m \u001b[39mFalse\u001b[39;00m\n\u001b[0;32m--> 555\u001b[0m \u001b[39mfor\u001b[39;00m token \u001b[39min\u001b[39;00m tokenize\u001b[39m.\u001b[39mgenerate_tokens(StringIO(s)\u001b[39m.\u001b[39mreadline):\n\u001b[1;32m    556\u001b[0m     token_type \u001b[39m=\u001b[39m token[\u001b[39m0\u001b[39m]\n\u001b[1;32m    557\u001b[0m     token_string \u001b[39m=\u001b[39m token[\u001b[39m1\u001b[39m]\n",
      "File \u001b[0;32m~/anaconda3/envs/pseudo_lidar/lib/python3.8/tokenize.py:598\u001b[0m, in \u001b[0;36m_tokenize\u001b[0;34m(readline, encoding)\u001b[0m\n\u001b[1;32m    596\u001b[0m         \u001b[39melif\u001b[39;00m initial \u001b[39min\u001b[39;00m \u001b[39m'\u001b[39m\u001b[39m)]}\u001b[39m\u001b[39m'\u001b[39m:\n\u001b[1;32m    597\u001b[0m             parenlev \u001b[39m-\u001b[39m\u001b[39m=\u001b[39m \u001b[39m1\u001b[39m\n\u001b[0;32m--> 598\u001b[0m         \u001b[39myield\u001b[39;00m TokenInfo(OP, token, spos, epos, line)\n\u001b[1;32m    599\u001b[0m \u001b[39melse\u001b[39;00m:\n\u001b[1;32m    600\u001b[0m     \u001b[39myield\u001b[39;00m TokenInfo(ERRORTOKEN, line[pos],\n\u001b[1;32m    601\u001b[0m                (lnum, pos), (lnum, pos\u001b[39m+\u001b[39m\u001b[39m1\u001b[39m), line)\n",
      "File \u001b[0;32m<string>:1\u001b[0m, in \u001b[0;36m__new__\u001b[0;34m(_cls, type, string, start, end, line)\u001b[0m\n",
      "\u001b[0;31mKeyboardInterrupt\u001b[0m: "
     ]
    }
   ],
   "source": [
    "## Generate filtered pointclouds from depth maps\n",
    "\n",
    "images = [SOURCE + name for name in sorted(os.listdir(SOURCE)) if name.endswith('.npy')]\n",
    "\n",
    "for im in tqdm(images):\n",
    "    im_name = im.split('/')[-1].split('.')[0]\n",
    "    depth_file = os.path.join(SOURCE, im_name + '.npy')\n",
    "    object_file = os.path.join(GT, im_name + '.txt')\n",
    "    calib_file = os.path.join(CALIB, im_name + '.txt')\n",
    "    pointcloud = depth_2_pointcloud(calib_dir=calib_file, depth_dir=depth_file, max_high=4, filter_by_gt=object_file)\n",
    "    pointcloud = pointcloud.reshape(pointcloud.size)\n",
    "    pointcloud.tofile(os.path.join(DESTINATION, im_name + '.bin'))"
   ]
  }
 ],
 "metadata": {
  "kernelspec": {
   "display_name": "pseudo_lidar",
   "language": "python",
   "name": "python3"
  },
  "language_info": {
   "codemirror_mode": {
    "name": "ipython",
    "version": 3
   },
   "file_extension": ".py",
   "mimetype": "text/x-python",
   "name": "python",
   "nbconvert_exporter": "python",
   "pygments_lexer": "ipython3",
   "version": "3.8.13"
  },
  "orig_nbformat": 4
 },
 "nbformat": 4,
 "nbformat_minor": 2
}
