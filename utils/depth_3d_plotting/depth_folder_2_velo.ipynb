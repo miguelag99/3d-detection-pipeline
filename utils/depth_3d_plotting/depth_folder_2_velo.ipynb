{
 "cells": [
  {
   "cell_type": "code",
   "execution_count": 1,
   "metadata": {},
   "outputs": [],
   "source": [
    "import numpy as np\n",
    "import os\n",
    "\n",
    "from tqdm import tqdm\n",
    "\n",
    "from generate_lidar_from_depth import depth_2_pointcloud"
   ]
  },
  {
   "cell_type": "code",
   "execution_count": 4,
   "metadata": {},
   "outputs": [],
   "source": [
    "SOURCE = '/home/robesafe/3d-detection-pipeline/results/SDN_shift/depth_maps/'\n",
    "DESTINATION = '/home/robesafe/3d-detection-pipeline/results/SDN_shift/lidar_from_depth/'\n",
    "CALIB = '/home/robesafe/Datasets/shift_dataset/training/calib/'\n",
    "\n",
    "if not os.path.exists(DESTINATION):\n",
    "    os.makedirs(DESTINATION)"
   ]
  },
  {
   "cell_type": "code",
   "execution_count": 5,
   "metadata": {},
   "outputs": [
    {
     "name": "stderr",
     "output_type": "stream",
     "text": [
      "100%|██████████| 7000/7000 [09:13<00:00, 12.66it/s]\n"
     ]
    }
   ],
   "source": [
    "images = [SOURCE + name for name in sorted(os.listdir(SOURCE)) if name.endswith('.npy')]\n",
    "\n",
    "for im in tqdm(images):\n",
    "    im_name = im.split('/')[-1].split('.')[0]\n",
    "    depth_file = os.path.join(SOURCE, im_name + '.npy')\n",
    "    calib_file = os.path.join(CALIB, im_name + '.txt')\n",
    "    pointcloud = depth_2_pointcloud(calib_dir=calib_file, depth_dir=depth_file, max_high=4)\n",
    "    pointcloud = pointcloud.reshape(pointcloud.size)\n",
    "    pointcloud.tofile(os.path.join(DESTINATION, im_name + '.bin'))"
   ]
  }
 ],
 "metadata": {
  "kernelspec": {
   "display_name": "pseudo_lidar",
   "language": "python",
   "name": "python3"
  },
  "language_info": {
   "codemirror_mode": {
    "name": "ipython",
    "version": 3
   },
   "file_extension": ".py",
   "mimetype": "text/x-python",
   "name": "python",
   "nbconvert_exporter": "python",
   "pygments_lexer": "ipython3",
   "version": "3.8.13"
  },
  "orig_nbformat": 4
 },
 "nbformat": 4,
 "nbformat_minor": 2
}
